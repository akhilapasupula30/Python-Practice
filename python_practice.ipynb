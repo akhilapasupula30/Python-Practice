{
 "cells": [
  {
   "cell_type": "code",
   "execution_count": 1,
   "id": "6b542f6e-59e4-4e98-948b-8c6cb425c61b",
   "metadata": {},
   "outputs": [
    {
     "name": "stdin",
     "output_type": "stream",
     "text": [
      "Enter the radius of the circle:  5\n"
     ]
    },
    {
     "name": "stdout",
     "output_type": "stream",
     "text": [
      "Area of the circle = 78.53981633974483\n"
     ]
    }
   ],
   "source": [
    "import math\n",
    "\n",
    "def area_of_circle(radius):\n",
    "    return math.pi * radius * radius\n",
    "\n",
    "r = float(input(\"Enter the radius of the circle: \"))\n",
    "area = area_of_circle(r)\n",
    "print(\"Area of the circle =\", area)\n"
   ]
  },
  {
   "cell_type": "code",
   "execution_count": 7,
   "id": "e989ad81-332a-4658-850a-0bd6629ca8d3",
   "metadata": {},
   "outputs": [
    {
     "name": "stdin",
     "output_type": "stream",
     "text": [
      "Enter a string:  India\n"
     ]
    },
    {
     "name": "stdout",
     "output_type": "stream",
     "text": [
      "2 3\n"
     ]
    }
   ],
   "source": [
    "def count_vowels_consonants(text):\n",
    "    vowels = \"aeiouAEIOU\"\n",
    "    countv = 0\n",
    "    countc = 0\n",
    "    for char in text:\n",
    "        if char in vowels:\n",
    "            countv += 1\n",
    "        else:\n",
    "            countc +=1\n",
    "    print(countc,countv)\n",
    "\n",
    "string = input(\"Enter a string: \")\n",
    "count_vowels_consonants(string)"
   ]
  },
  {
   "cell_type": "code",
   "execution_count": 11,
   "id": "d863d725-fa60-4946-9bd7-30e1908632c2",
   "metadata": {},
   "outputs": [
    {
     "name": "stdout",
     "output_type": "stream",
     "text": [
      "Original list: [30, 42, 56, 70, 45, 35]\n",
      "Modified list: [25, 42, 56, 65, 40, 30]\n"
     ]
    }
   ],
   "source": [
    "numbers = [30, 42, 56, 70, 45, 35]\n",
    "\n",
    "result = []\n",
    "for num in numbers:\n",
    "    if num % 5 == 0:\n",
    "        result.append(num - 5)\n",
    "    else:\n",
    "        result.append(num)\n",
    "\n",
    "print(\"Original list:\", numbers)\n",
    "print(\"Modified list:\", result)\n"
   ]
  },
  {
   "cell_type": "code",
   "execution_count": 19,
   "id": "33882a74-501d-41fe-8b26-a64ae816d62a",
   "metadata": {},
   "outputs": [
    {
     "name": "stdout",
     "output_type": "stream",
     "text": [
      "[23, 45, 99, 20]\n",
      "[24, 67, 54]\n"
     ]
    }
   ],
   "source": [
    "num = [23, 24, 45, 67, 99, 54, 20]\n",
    "\n",
    "even = []\n",
    "odd = []\n",
    "\n",
    "for n in range(len(num)):\n",
    "    if n % 2 == 0:\n",
    "        even.append(num[n])\n",
    "    else:\n",
    "        odd.append(num[n])\n",
    "\n",
    "print(even)\n",
    "print(odd)"
   ]
  },
  {
   "cell_type": "code",
   "execution_count": 5,
   "id": "85e443cb-145c-4ca3-9256-4fb05131faa4",
   "metadata": {},
   "outputs": [
    {
     "name": "stdout",
     "output_type": "stream",
     "text": [
      "Sum of indices of even elements: 6\n",
      "Sum of indices of odd elements: 9\n"
     ]
    }
   ],
   "source": [
    "numbers = [10, 15, 20, 25, 30, 35]\n",
    "\n",
    "even_sum = 0\n",
    "odd_sum = 0\n",
    "\n",
    "for index, value in enumerate(numbers):\n",
    "    if value % 2 == 0:\n",
    "        even_sum += index\n",
    "    else:\n",
    "        odd_sum += index\n",
    "\n",
    "print(\"Sum of indices of even elements:\", even_sum)\n",
    "print(\"Sum of indices of odd elements:\", odd_sum)\n"
   ]
  },
  {
   "cell_type": "code",
   "execution_count": 7,
   "id": "4427f304-cbff-447e-a864-a913021a912c",
   "metadata": {},
   "outputs": [
    {
     "name": "stdout",
     "output_type": "stream",
     "text": [
      "['delhi', 'Dubai', 'Dadar', 'Danish']\n"
     ]
    }
   ],
   "source": [
    "p = ['Mumbai', 'Hyderadad', 'delhi', 'Dubai', 'Jaipur', 'Kolkata', 'Chennai', 'Dadar', 'Danish']\n",
    "l = [w for w in p if w.lower().startswith('d')]\n",
    "print(l)"
   ]
  },
  {
   "cell_type": "code",
   "execution_count": 12,
   "id": "465cfa63-78d1-4951-827d-a986a152da19",
   "metadata": {},
   "outputs": [
    {
     "name": "stdout",
     "output_type": "stream",
     "text": [
      "{'Mumbai': 50, 'Hyderadad': 40, 'delhi': 30, 'Dubai': 20, 'Jaipur': 100, 'Kolkata': 350, 'Chennai': 280, 'Dadar': 200, 'Danish': 1907}\n"
     ]
    }
   ],
   "source": [
    "p = ['Mumbai', 'Hyderadad', 'delhi', 'Dubai', 'Jaipur', 'Kolkata', 'Chennai', 'Dadar', 'Danish']\n",
    "u = [50, 40, 30, 20, 100, 350, 280, 200, 1907]\n",
    "v = dict(zip(p , u))\n",
    "print(v)"
   ]
  },
  {
   "cell_type": "code",
   "execution_count": null,
   "id": "eefe6e7b-c4bf-4e1b-a057-07db5596caa4",
   "metadata": {},
   "outputs": [],
   "source": []
  },
  {
   "cell_type": "code",
   "execution_count": null,
   "id": "9c35bb97-c2a4-4f59-a537-3ad2b6210814",
   "metadata": {},
   "outputs": [],
   "source": []
  }
 ],
 "metadata": {
  "kernelspec": {
   "display_name": "Python [conda env:base] *",
   "language": "python",
   "name": "conda-base-py"
  },
  "language_info": {
   "codemirror_mode": {
    "name": "ipython",
    "version": 3
   },
   "file_extension": ".py",
   "mimetype": "text/x-python",
   "name": "python",
   "nbconvert_exporter": "python",
   "pygments_lexer": "ipython3",
   "version": "3.13.5"
  }
 },
 "nbformat": 4,
 "nbformat_minor": 5
}
